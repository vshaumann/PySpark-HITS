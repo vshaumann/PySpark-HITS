{
 "cells": [
  {
   "cell_type": "code",
   "execution_count": 1,
   "metadata": {
    "collapsed": false
   },
   "outputs": [
    {
     "name": "stdout",
     "output_type": "stream",
     "text": [
      "Populating the interactive namespace from numpy and matplotlib\n"
     ]
    }
   ],
   "source": [
    "import networkx as nx\n",
    "%pylab inline"
   ]
  },
  {
   "cell_type": "code",
   "execution_count": 20,
   "metadata": {
    "collapsed": false
   },
   "outputs": [
    {
     "data": {
      "image/png": "[encoded data removed]",
      "text/plain": [
       "<matplotlib.figure.Figure at 0x10ef0c850>"
      ]
     },
     "metadata": {},
     "output_type": "display_data"
    }
   ],
   "source": [
    "# Generate a simple directed graph\n",
    "# think line represents an arrow\n",
    "G = nx.DiGraph()\n",
    "G.add_edges_from([(1, 2), (1, 3), (1, 4), (4, 3), (3, 2), (5, 2), (5, 6), (5, 7), (5, 8)])\n",
    "nx.draw(G, with_labels = True, width=0.5, node_color='yellow')"
   ]
  },
  {
   "cell_type": "code",
   "execution_count": 16,
   "metadata": {
    "collapsed": false
   },
   "outputs": [
    {
     "name": "stdout",
     "output_type": "stream",
     "text": [
      "[[1, [2, 3, 4]], [4, [3]], [3, [2]], [5, [6, 7, 8, 2]]]\n",
      "[[4, [1]], [3, [1, 4]], [2, [1, 3, 5]], [6, [5]], [7, [5]], [8, [5]]]\n",
      "{1: 1, 2: 1, 3: 1, 4: 1, 5: 1, 6: 1, 7: 1, 8: 1}\n",
      "{1: 1, 2: 1, 3: 1, 4: 1, 5: 1, 6: 1, 7: 1, 8: 1}\n"
     ]
    }
   ],
   "source": [
    "# Initialize RDDs with sample data\n",
    "outlinks_rdd = sc.parallelize([[1, [2, 3, 4]], [4, [3]], [3, [2]], [5, [6, 7, 8, 2]]])\n",
    "print outlinks_rdd.collect()\n",
    "\n",
    "inlinks_rdd = sc.parallelize([[4, [1]], [3, [1, 4]], [2, [1, 3, 5]], [6, [5]], [7, [5]], [8, [5]]])\n",
    "print inlinks_rdd.collect()\n",
    "\n",
    "# Initialize hub scores and auth scores\n",
    "hub_score = sc.broadcast({1: 1, 2: 1, 3: 1, 4: 1, 5: 1, 6: 1, 7: 1, 8: 1})\n",
    "print hub_score.value\n",
    "\n",
    "auth_score = sc.broadcast({1: 1, 2: 1, 3: 1, 4: 1, 5: 1, 6: 1, 7: 1, 8: 1})\n",
    "print auth_score.value"
   ]
  },
  {
   "cell_type": "code",
   "execution_count": 17,
   "metadata": {
    "collapsed": true
   },
   "outputs": [],
   "source": [
    "# Define Python UDFs\n",
    "\n",
    "def get_auth(x):\n",
    "    page = x[0]\n",
    "    outlinks = x[1]\n",
    "    new_auth_score = 0\n",
    "    # Get values from broadcast variable\n",
    "    hub_lookup = hub_score.value\n",
    "    \n",
    "    for i in outlinks:\n",
    "        try:\n",
    "            new_auth_score += hub_lookup[i]\n",
    "        except KeyError:\n",
    "            pass\n",
    "    \n",
    "    return (page, outlinks, new_auth_score)\n",
    "\n",
    "def get_hub(x):\n",
    "    page = x[0]\n",
    "    inlinks = x[1]\n",
    "    new_hub_score = 0\n",
    "    # Get values from broadcast variable\n",
    "    auth_lookup = auth_score.value\n",
    "      \n",
    "    for i in inlinks:\n",
    "        try:\n",
    "            new_hub_score += auth_lookup[i]\n",
    "        except KeyError:\n",
    "            pass\n",
    "    \n",
    "    return (page, inlinks, new_hub_score)"
   ]
  },
  {
   "cell_type": "code",
   "execution_count": 14,
   "metadata": {
    "collapsed": false
   },
   "outputs": [
    {
     "data": {
      "text/plain": [
       "{1: 0.41, 2: 0.35, 3: 0.14, 4: 0.14, 5: 0.55, 6: 0.35, 7: 0.35, 8: 0.35}"
      ]
     },
     "execution_count": 14,
     "metadata": {},
     "output_type": "execute_result"
    }
   ],
   "source": [
    "outlinks_rdd = outlinks_rdd.map(lambda x: get_auth(x))\n",
    "\n",
    "temp_auth_dict = auth_score.value\n",
    "auth_score_collect = outlinks_rdd.map(lambda x: [x[0], x[2]]).collect()\n",
    "\n",
    "for i in auth_score_collect:\n",
    "    try:\n",
    "        temp_auth_dict[i[0]] = i[1]\n",
    "    except KeyError:\n",
    "        pass\n",
    "\n",
    "# Normalize\n",
    "# Get values from broadcast variable (dictionary)\n",
    "auth_get = auth_score.value.values()\n",
    "norm = np.sqrt(sum([i ** 2 for i in auth_get]))\n",
    "\n",
    "for k, v in temp_auth_dict.iteritems():\n",
    "    temp_auth_dict[k] = round(v / norm, 2)\n",
    "    \n",
    "# Update the broadcast variable\n",
    "# Unpersist from workers\n",
    "auth_score.unpersist()\n",
    "# Delete local Python object\n",
    "del auth_score\n",
    "\n",
    "auth_score = sc.broadcast(temp_auth_dict)\n",
    "auth_score.value"
   ]
  },
  {
   "cell_type": "code",
   "execution_count": 15,
   "metadata": {
    "collapsed": false
   },
   "outputs": [
    {
     "data": {
      "text/plain": [
       "{1: 0.25, 2: 0.21, 3: 0.09, 4: 0.09, 5: 0.33, 6: 0.21, 7: 0.21, 8: 0.21}"
      ]
     },
     "execution_count": 15,
     "metadata": {},
     "output_type": "execute_result"
    }
   ],
   "source": [
    "inlinks_rdd = inlinks_rdd.map(lambda x: get_hub(x))\n",
    "\n",
    "temp_hub_dict = hub_score.value\n",
    "hub_score_collect = inlinks_rdd.map(lambda x: [x[0], x[2]]).collect()\n",
    "\n",
    "for i in hub_score_collect:\n",
    "    try:\n",
    "        temp_hub_dict[i[0]] = i[1]\n",
    "    except KeyError:\n",
    "        pass\n",
    "\n",
    "# Normalize    \n",
    "# Get values from broadcast variable (dictionary)\n",
    "hub_get = hub_score.value.values()\n",
    "norm = np.sqrt(sum([i ** 2 for i in hub_get]))\n",
    "\n",
    "for k, v in temp_auth_dict.iteritems():\n",
    "    temp_hub_dict[k] = round(v / norm, 2)\n",
    "       \n",
    "# Update broadcast variable\n",
    "# Unpersist from workers\n",
    "hub_score.unpersist()\n",
    "# Delete local Python object\n",
    "del hub_score\n",
    "\n",
    "hub_score = sc.broadcast(temp_hub_dict)\n",
    "hub_score.value"
   ]
  },
  {
   "cell_type": "code",
   "execution_count": 8,
   "metadata": {
    "collapsed": true
   },
   "outputs": [],
   "source": [
    "# Unpersist and delete local object\n",
    "auth_score.unpersist()\n",
    "del auth_score\n",
    "hub_score.unpersist()\n",
    "del hub_score"
   ]
  }
 ],
 "metadata": {
  "kernelspec": {
   "display_name": "Python 2",
   "language": "python",
   "name": "python2"
  },
  "language_info": {
   "codemirror_mode": {
    "name": "ipython",
    "version": 2
   },
   "file_extension": ".py",
   "mimetype": "text/x-python",
   "name": "python",
   "nbconvert_exporter": "python",
   "pygments_lexer": "ipython2",
   "version": "2.7.11"
  }
 },
 "nbformat": 4,
 "nbformat_minor": 0
}
