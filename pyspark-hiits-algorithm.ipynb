{
 "cells": [
  {
   "cell_type": "markdown",
   "metadata": {},
   "source": [
    "### Example Use of Broadcast Variables in Spark\n",
    "\n",
    "This Notebook shows an implementation of [HITS Algorithm](https://en.wikipedia.org/wiki/HITS_algorithm) in PySpark as an experiment for use of broadcast variables.\n",
    "\n",
    "Sample was generated to illustrate the use of broadcast variables in PySpark in local environment, but it is also possible to run this code on Wikipedia dataset."
   ]
  },
  {
   "cell_type": "code",
   "execution_count": 14,
   "metadata": {
    "collapsed": false
   },
   "outputs": [
    {
     "name": "stdout",
     "output_type": "stream",
     "text": [
      "Populating the interactive namespace from numpy and matplotlib\n"
     ]
    },
    {
     "name": "stderr",
     "output_type": "stream",
     "text": [
      "WARNING: pylab import has clobbered these variables: ['norm']\n",
      "`%matplotlib` prevents importing * from pylab and numpy\n"
     ]
    }
   ],
   "source": [
    "import networkx as nx\n",
    "%pylab inline"
   ]
  },
  {
   "cell_type": "markdown",
   "metadata": {},
   "source": [
    "### 1. Generate and Visualize a Simple Example with NetworkX\n",
    "\n",
    "Bolded line tips are NetworkX arrows, which show direction of the connection."
   ]
  },
  {
   "cell_type": "code",
   "execution_count": 15,
   "metadata": {
    "collapsed": false
   },
   "outputs": [
    {
     "data": {
      "image/png": "[encoded data removed]",
      "text/plain": [
       "<matplotlib.figure.Figure at 0x10f711b50>"
      ]
     },
     "metadata": {},
     "output_type": "display_data"
    }
   ],
   "source": [
    "G = nx.DiGraph()\n",
    "G.add_edges_from([(1, 2), (1, 3), (1, 4), (4, 3), (3, 2), (5, 2), (5, 6), (5, 7), (5, 8)])\n",
    "nx.draw(G, with_labels = True, width=0.5, node_color='yellow')"
   ]
  },
  {
   "cell_type": "markdown",
   "metadata": {},
   "source": [
    "### 2. Initialize Two RDDs with Sample Data from Above"
   ]
  },
  {
   "cell_type": "code",
   "execution_count": 16,
   "metadata": {
    "collapsed": false
   },
   "outputs": [
    {
     "name": "stdout",
     "output_type": "stream",
     "text": [
      "[[1, [2, 3, 4]], [4, [3]], [3, [2]], [5, [6, 7, 8, 2]]]\n",
      "[[4, [1]], [3, [1, 4]], [2, [1, 3, 5]], [6, [5]], [7, [5]], [8, [5]]]\n"
     ]
    }
   ],
   "source": [
    "outlinks_rdd = sc.parallelize([[1, [2, 3, 4]], [4, [3]], [3, [2]], [5, [6, 7, 8, 2]]])\n",
    "print outlinks_rdd.collect()\n",
    "\n",
    "inlinks_rdd = sc.parallelize([[4, [1]], [3, [1, 4]], [2, [1, 3, 5]], [6, [5]], [7, [5]], [8, [5]]])\n",
    "print inlinks_rdd.collect()"
   ]
  },
  {
   "cell_type": "markdown",
   "metadata": {},
   "source": [
    "### 3. Initialize a Broadcast Variables for Hub and Auth Scores"
   ]
  },
  {
   "cell_type": "code",
   "execution_count": 17,
   "metadata": {
    "collapsed": false
   },
   "outputs": [
    {
     "name": "stdout",
     "output_type": "stream",
     "text": [
      "{1: 1, 2: 1, 3: 1, 4: 1, 5: 1, 6: 1, 7: 1, 8: 1}\n",
      "{1: 1, 2: 1, 3: 1, 4: 1, 5: 1, 6: 1, 7: 1, 8: 1}\n"
     ]
    }
   ],
   "source": [
    "hub_score = sc.broadcast({1: 1, 2: 1, 3: 1, 4: 1, 5: 1, 6: 1, 7: 1, 8: 1})\n",
    "print hub_score.value\n",
    "\n",
    "auth_score = sc.broadcast({1: 1, 2: 1, 3: 1, 4: 1, 5: 1, 6: 1, 7: 1, 8: 1})\n",
    "print auth_score.value"
   ]
  },
  {
   "cell_type": "markdown",
   "metadata": {},
   "source": [
    "### 4. Define Python UDFs\n",
    "\n",
    "These two functions modify Auth and Hub RDDs with their respective Auth and Hub scores.\n",
    "\n",
    "We use dictionary in the broadcast variable as a lookup and modify an existing RDDs with new scores."
   ]
  },
  {
   "cell_type": "code",
   "execution_count": 18,
   "metadata": {
    "collapsed": true
   },
   "outputs": [],
   "source": [
    "def get_auth(x):\n",
    "    page = x[0]\n",
    "    outlinks = x[1]\n",
    "    new_auth_score = 0\n",
    "    \n",
    "    # Get values from broadcast variable\n",
    "    hub_lookup = hub_score.value\n",
    "    \n",
    "    for i in outlinks:\n",
    "        try:\n",
    "            new_auth_score += hub_lookup[i]\n",
    "        except KeyError:\n",
    "            pass\n",
    "    \n",
    "    return (page, outlinks, new_auth_score)\n",
    "\n",
    "def get_hub(x):\n",
    "    page = x[0]\n",
    "    inlinks = x[1]\n",
    "    new_hub_score = 0\n",
    "    \n",
    "    # Get values from broadcast variable\n",
    "    auth_lookup = auth_score.value\n",
    "      \n",
    "    for i in inlinks:\n",
    "        try:\n",
    "            new_hub_score += auth_lookup[i]\n",
    "        except KeyError:\n",
    "            pass\n",
    "    \n",
    "    return (page, inlinks, new_hub_score)"
   ]
  },
  {
   "cell_type": "markdown",
   "metadata": {},
   "source": [
    "### 5. Collect Auth and Hub Scores from an RDD and Normalize the Scores\n",
    "\n",
    "This step is repeated multiple times untill scores converge."
   ]
  },
  {
   "cell_type": "code",
   "execution_count": 19,
   "metadata": {
    "collapsed": false
   },
   "outputs": [
    {
     "name": "stdout",
     "output_type": "stream",
     "text": [
      "{1: 0.54, 2: 0.18, 3: 0.18, 4: 0.18, 5: 0.72, 6: 0.18, 7: 0.18, 8: 0.18}\n"
     ]
    }
   ],
   "source": [
    "outlinks_rdd = outlinks_rdd.map(lambda x: get_auth(x))\n",
    "\n",
    "temp_auth_dict = auth_score.value\n",
    "auth_score_collect = outlinks_rdd.map(lambda x: [x[0], x[2]]).collect()\n",
    "\n",
    "for i in auth_score_collect:\n",
    "    try:\n",
    "        temp_auth_dict[i[0]] = i[1]\n",
    "    except KeyError:\n",
    "        pass\n",
    "\n",
    "# Normalize\n",
    "# Get values from broadcast variable (dictionary)\n",
    "auth_get = auth_score.value.values()\n",
    "norm = np.sqrt(sum([i ** 2 for i in auth_get]))\n",
    "\n",
    "for k, v in temp_auth_dict.iteritems():\n",
    "    temp_auth_dict[k] = round(v / norm, 2)\n",
    "    \n",
    "# Update the broadcast variable\n",
    "# Unpersist from workers\n",
    "auth_score.unpersist()\n",
    "\n",
    "# Delete local Python object\n",
    "del auth_score\n",
    "\n",
    "auth_score = sc.broadcast(temp_auth_dict)\n",
    "print auth_score.value"
   ]
  },
  {
   "cell_type": "code",
   "execution_count": 20,
   "metadata": {
    "collapsed": false
   },
   "outputs": [
    {
     "name": "stdout",
     "output_type": "stream",
     "text": [
      "{1: 0.21, 2: 0.07, 3: 0.07, 4: 0.07, 5: 0.28, 6: 0.07, 7: 0.07, 8: 0.07}\n"
     ]
    }
   ],
   "source": [
    "inlinks_rdd = inlinks_rdd.map(lambda x: get_hub(x))\n",
    "\n",
    "temp_hub_dict = hub_score.value\n",
    "hub_score_collect = inlinks_rdd.map(lambda x: [x[0], x[2]]).collect()\n",
    "\n",
    "for i in hub_score_collect:\n",
    "    try:\n",
    "        temp_hub_dict[i[0]] = i[1]\n",
    "    except KeyError:\n",
    "        pass\n",
    "\n",
    "# Normalize    \n",
    "# Get values from broadcast variable (dictionary)\n",
    "hub_get = hub_score.value.values()\n",
    "norm = np.sqrt(sum([i ** 2 for i in hub_get]))\n",
    "\n",
    "for k, v in temp_auth_dict.iteritems():\n",
    "    temp_hub_dict[k] = round(v / norm, 2)\n",
    "       \n",
    "# Update broadcast variable\n",
    "# Unpersist from workers\n",
    "hub_score.unpersist()\n",
    "\n",
    "# Delete local Python object\n",
    "del hub_score\n",
    "\n",
    "hub_score = sc.broadcast(temp_hub_dict)\n",
    "print hub_score.value"
   ]
  },
  {
   "cell_type": "markdown",
   "metadata": {},
   "source": [
    "### 6. Unpersist and Delete Local Objects"
   ]
  },
  {
   "cell_type": "code",
   "execution_count": 21,
   "metadata": {
    "collapsed": true
   },
   "outputs": [],
   "source": [
    "auth_score.unpersist()\n",
    "del auth_score\n",
    "hub_score.unpersist()\n",
    "del hub_score"
   ]
  },
  {
   "cell_type": "code",
   "execution_count": null,
   "metadata": {
    "collapsed": true
   },
   "outputs": [],
   "source": []
  }
 ],
 "metadata": {
  "kernelspec": {
   "display_name": "Python 2",
   "language": "python",
   "name": "python2"
  },
  "language_info": {
   "codemirror_mode": {
    "name": "ipython",
    "version": 2
   },
   "file_extension": ".py",
   "mimetype": "text/x-python",
   "name": "python",
   "nbconvert_exporter": "python",
   "pygments_lexer": "ipython2",
   "version": "2.7.11"
  }
 },
 "nbformat": 4,
 "nbformat_minor": 0
}
